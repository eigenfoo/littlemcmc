{
 "cells": [
  {
   "cell_type": "markdown",
   "metadata": {},
   "source": [
    "# LittleMCMC Quickstart\n",
    "\n",
    "LittleMCMC is a lightweight and performant implementation of HMC and NUTS in Python, spun out of the PyMC project. In this quickstart tutorial, we will introduce LittleMCMC\n",
    "\n",
    "## Who should/should not use LittleMCMC?\n",
    "\n",
    "<div class=\"alert alert-block alert-info\">\n",
    "LittleMCMC is a fairly bare bones library with a very niche use case. Most users will probably find that [PyMC3](https://github.com/pymc-devs/pymc3) will satisfy their needs, with better strength of support and quality of documentation.\n",
    "</div>\n",
    "\n",
    "If you:\n",
    "\n",
    "1. Have model with only continuous parameters,\n",
    "1. Are willing to manually \"unconstrain\" all of your model's parameters (if necessary),\n",
    "1. Have methods to compute the log probability of the model and its derivative, exposed via a Python callable,\n",
    "1. And all you need is an implementation of HMC/NUTS (preferably in Python) to sample from your model\n",
    "\n",
    "then you should consider using LittleMCMC!"
   ]
  },
  {
   "cell_type": "markdown",
   "metadata": {},
   "source": [
    "## Sampling"
   ]
  },
  {
   "cell_type": "code",
   "execution_count": 1,
   "metadata": {},
   "outputs": [],
   "source": [
    "import numpy as np\n",
    "import scipy\n",
    "import littlemcmc as lmc"
   ]
  },
  {
   "cell_type": "code",
   "execution_count": 2,
   "metadata": {},
   "outputs": [],
   "source": [
    "def logp_func(x, loc=0, scale=1):\n",
    "    return np.log(scipy.stats.norm.pdf(x, loc=loc, scale=scale))\n",
    "\n",
    "\n",
    "def dlogp_func(x, loc=0, scale=1):\n",
    "    return -(x - loc) / scale\n",
    "\n",
    "\n",
    "def logp_dlogp_func(x, loc=0, scale=1):\n",
    "    return logp_func(x, loc=loc, scale=scale), dlogp_func(x, loc=loc, scale=scale)"
   ]
  },
  {
   "cell_type": "code",
   "execution_count": 3,
   "metadata": {},
   "outputs": [
    {
     "name": "stderr",
     "output_type": "stream",
     "text": [
      "/Users/george/miniconda3/lib/python3.6/site-packages/ipykernel_launcher.py:2: RuntimeWarning: divide by zero encountered in log\n",
      "  \n"
     ]
    },
    {
     "name": "stdout",
     "output_type": "stream",
     "text": [
      "\n"
     ]
    }
   ],
   "source": [
    "trace, stats, results = lmc.sample(\n",
    "    logp_dlogp_func=logp_dlogp_func,\n",
    "    size=1,\n",
    "    draws=1000,\n",
    "    tune=500,\n",
    "    step=lmc.NUTS(logp_dlogp_func=logp_dlogp_func, size=1),\n",
    "    chains=4,\n",
    "    cores=4,\n",
    "    progressbar=\"notebook\"\n",
    ")"
   ]
  },
  {
   "cell_type": "markdown",
   "metadata": {},
   "source": [
    "### Inspecting the Output of `lmc.sample`"
   ]
  },
  {
   "cell_type": "code",
   "execution_count": 4,
   "metadata": {},
   "outputs": [
    {
     "data": {
      "text/plain": [
       "array([-0.30283875,  1.00489538,  1.00489538, ...,  0.25364023,\n",
       "        1.42310791,  1.42310791])"
      ]
     },
     "execution_count": 4,
     "metadata": {},
     "output_type": "execute_result"
    }
   ],
   "source": [
    "trace"
   ]
  },
  {
   "cell_type": "code",
   "execution_count": 5,
   "metadata": {},
   "outputs": [
    {
     "data": {
      "text/plain": [
       "(4000,)"
      ]
     },
     "execution_count": 5,
     "metadata": {},
     "output_type": "execute_result"
    }
   ],
   "source": [
    "trace.shape"
   ]
  },
  {
   "cell_type": "code",
   "execution_count": null,
   "metadata": {},
   "outputs": [],
   "source": []
  },
  {
   "cell_type": "code",
   "execution_count": 13,
   "metadata": {},
   "outputs": [],
   "source": [
    "stats = [iteration_stats for (_, chain_stats) in results for iteration_stats in chain_stats]"
   ]
  },
  {
   "cell_type": "code",
   "execution_count": 23,
   "metadata": {},
   "outputs": [],
   "source": [
    "foo = {\n",
    "    \"tune\": np.array([iteration_stats[\"tune\"] for iteration_stats in stats]).astype(int),\n",
    "    \"diverging\": np.array([iteration_stats[\"diverging\"] for iteration_stats in stats]).astype(int),\n",
    "    \"depth\": np.array([iteration_stats[\"depth\"] for iteration_stats in stats]).astype(int),\n",
    "    \"mean_tree_accept\": np.hstack([iteration_stats[\"mean_tree_accept\"] for iteration_stats in stats]),    \n",
    "    \"energy_error\": np.hstack([iteration_stats[\"energy_error\"] for iteration_stats in stats]),\n",
    "    \"energy\": np.hstack([iteration_stats[\"energy\"] for iteration_stats in stats]),\n",
    "    \"tree_size\": np.array([iteration_stats[\"tree_size\"] for iteration_stats in stats]).astype(int),\n",
    "    \"max_energy_error\": np.hstack([iteration_stats[\"max_energy_error\"] for iteration_stats in stats]),\n",
    "    \"model_logp\": np.hstack([iteration_stats[\"model_logp\"] for iteration_stats in stats]),\n",
    "    \"step_size\": np.hstack([iteration_stats[\"step_size\"] for iteration_stats in stats]),\n",
    "    \"step_size_bar\": np.hstack([iteration_stats[\"step_size_bar\"] for iteration_stats in stats]),\n",
    "}"
   ]
  },
  {
   "cell_type": "markdown",
   "metadata": {},
   "source": [
    "## Other Modules\n",
    "\n",
    "These modules can be customized."
   ]
  },
  {
   "cell_type": "code",
   "execution_count": null,
   "metadata": {},
   "outputs": [],
   "source": []
  },
  {
   "cell_type": "code",
   "execution_count": null,
   "metadata": {},
   "outputs": [],
   "source": []
  },
  {
   "cell_type": "code",
   "execution_count": null,
   "metadata": {},
   "outputs": [],
   "source": []
  }
 ],
 "metadata": {
  "kernelspec": {
   "display_name": "Python 3",
   "language": "python",
   "name": "python3"
  },
  "language_info": {
   "codemirror_mode": {
    "name": "ipython",
    "version": 3
   },
   "file_extension": ".py",
   "mimetype": "text/x-python",
   "name": "python",
   "nbconvert_exporter": "python",
   "pygments_lexer": "ipython3",
   "version": "3.6.7"
  }
 },
 "nbformat": 4,
 "nbformat_minor": 2
}

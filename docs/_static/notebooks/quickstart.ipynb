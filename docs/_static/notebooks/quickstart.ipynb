{
 "cells": [
  {
   "cell_type": "markdown",
   "metadata": {},
   "source": [
    "# LittleMCMC Quickstart\n",
    "\n",
    "LittleMCMC is a lightweight and performant implementation of HMC and NUTS in Python, spun out of the PyMC project. In this quickstart tutorial, we will introduce LittleMCMC\n",
    "\n",
    "## Table of Contents\n",
    "\n",
    "- [Who should use LittleMCMC?](#Who-should-use-LittleMCMC?)\n",
    "- [Sampling](#Sampling)\n",
    "  - [Inspecting the Output of `lmc.sample`](#Inspecting-the-Output-of-lmc.sample)\n",
    "- [Other Modules](#Other-Modules)\n",
    "\n",
    "## Who should use LittleMCMC?\n",
    "\n",
    "<div class=\"alert alert-block alert-info\">\n",
    "LittleMCMC is a fairly bare bones library with a very niche use case. Most users will probably find that [PyMC3](https://github.com/pymc-devs/pymc3) will satisfy their needs, with better strength of support and quality of documentation.\n",
    "</div>\n",
    "\n",
    "If you:\n",
    "\n",
    "1. Have model with only continuous parameters,\n",
    "1. Are willing to manually \"unconstrain\" all of your model's parameters (if necessary),\n",
    "1. Have methods to compute the log probability of the model and its derivative, exposed via a Python callable,\n",
    "1. And all you need is an implementation of HMC/NUTS (preferably in Python) to sample from your model\n",
    "\n",
    "then you should consider using LittleMCMC!\n",
    "\n",
    "## Sampling"
   ]
  },
  {
   "cell_type": "code",
   "execution_count": 1,
   "metadata": {},
   "outputs": [],
   "source": [
    "import numpy as np\n",
    "import scipy\n",
    "import littlemcmc as lmc"
   ]
  },
  {
   "cell_type": "code",
   "execution_count": 2,
   "metadata": {},
   "outputs": [],
   "source": [
    "def logp_func(x, loc=0, scale=1):\n",
    "    return np.log(scipy.stats.norm.pdf(x, loc=loc, scale=scale))\n",
    "\n",
    "\n",
    "def dlogp_func(x, loc=0, scale=1):\n",
    "    return -(x - loc) / scale\n",
    "\n",
    "\n",
    "def logp_dlogp_func(x, loc=0, scale=1):\n",
    "    return logp_func(x, loc=loc, scale=scale), dlogp_func(x, loc=loc, scale=scale)"
   ]
  },
  {
   "cell_type": "code",
   "execution_count": 3,
   "metadata": {},
   "outputs": [
    {
     "name": "stderr",
     "output_type": "stream",
     "text": [
      "/Users/george/miniconda3/lib/python3.6/site-packages/ipykernel_launcher.py:2: RuntimeWarning: divide by zero encountered in log\n",
      "  \n",
      "/Users/george/miniconda3/lib/python3.6/site-packages/ipykernel_launcher.py:2: RuntimeWarning: divide by zero encountered in log\n",
      "  \n"
     ]
    },
    {
     "name": "stdout",
     "output_type": "stream",
     "text": [
      "\n"
     ]
    }
   ],
   "source": [
    "trace, stats, results = lmc.sample(\n",
    "    logp_dlogp_func=logp_dlogp_func,\n",
    "    size=1,\n",
    "    draws=1000,\n",
    "    tune=500,\n",
    "    step=lmc.NUTS(logp_dlogp_func=logp_dlogp_func, size=1),\n",
    "    chains=4,\n",
    "    cores=4,\n",
    "    progressbar=\"notebook\"\n",
    ")"
   ]
  },
  {
   "cell_type": "markdown",
   "metadata": {},
   "source": [
    "### Inspecting the Output of `lmc.sample`"
   ]
  },
  {
   "cell_type": "code",
   "execution_count": 4,
   "metadata": {},
   "outputs": [
    {
     "data": {
      "text/plain": [
       "array([-0.38331274, -1.76994233, -0.67234733, ...,  0.27817656,\n",
       "        0.29250676,  0.42966184])"
      ]
     },
     "execution_count": 4,
     "metadata": {},
     "output_type": "execute_result"
    }
   ],
   "source": [
    "trace"
   ]
  },
  {
   "cell_type": "code",
   "execution_count": 5,
   "metadata": {},
   "outputs": [
    {
     "data": {
      "text/plain": [
       "(4000,)"
      ]
     },
     "execution_count": 5,
     "metadata": {},
     "output_type": "execute_result"
    }
   ],
   "source": [
    "trace.shape"
   ]
  },
  {
   "cell_type": "code",
   "execution_count": 6,
   "metadata": {},
   "outputs": [
    {
     "data": {
      "text/plain": [
       "{'depth': array([1, 1, 1, ..., 1, 2, 1]),\n",
       " 'step_size': array([0.94586326, 0.94586326, 0.94586326, ..., 2.16938615, 2.16938615,\n",
       "        2.16938615]),\n",
       " 'tune': array([False, False, False, ..., False, False, False]),\n",
       " 'mean_tree_accept': array([1.        , 0.43665689, 1.        , ..., 0.98765583, 0.72296808,\n",
       "        0.97965297]),\n",
       " 'step_size_bar': array([1.20597596, 1.20597596, 1.20597596, ..., 1.28614833, 1.28614833,\n",
       "        1.28614833]),\n",
       " 'tree_size': array([1., 1., 1., ..., 1., 3., 1.]),\n",
       " 'diverging': array([False, False, False, ..., False, False, False]),\n",
       " 'energy_error': array([-0.25675836,  0.82860753, -0.74393026, ...,  0.01242099,\n",
       "         0.00169732,  0.02055688]),\n",
       " 'energy': array([1.25393394, 2.56056236, 1.91071276, ..., 0.95981431, 1.76229677,\n",
       "        1.02575724]),\n",
       " 'max_energy_error': array([-0.25675836,  0.82860753, -0.74393026, ...,  0.01242099,\n",
       "         0.56981615,  0.02055688]),\n",
       " 'model_logp': array([-0.99240286, -2.48528646, -1.144964  , ..., -0.95762963,\n",
       "        -0.96171864, -1.01124318])}"
      ]
     },
     "execution_count": 6,
     "metadata": {},
     "output_type": "execute_result"
    }
   ],
   "source": [
    "stats"
   ]
  },
  {
   "cell_type": "code",
   "execution_count": 7,
   "metadata": {},
   "outputs": [
    {
     "data": {
      "text/plain": [
       "(4000,)"
      ]
     },
     "execution_count": 7,
     "metadata": {},
     "output_type": "execute_result"
    }
   ],
   "source": [
    "stats[\"diverging\"].shape"
   ]
  },
  {
   "cell_type": "markdown",
   "metadata": {},
   "source": [
    "## Other Modules\n",
    "\n",
    "LittleMCMC exposes:\n",
    "\n",
    "1. Two step methods: Hamiltonian Monte Carlo (HMC) and the No-U-Turn Sampler (NUTS)\n",
    "1. Quadpotentials (a.k.a. mass matrices or inverse metrics)\n",
    "1. Dual-averaging step size adaptation\n",
    "1. Leapfrog integration\n",
    "\n",
    "Refer to the [API Reference](https://littlemcmc.readthedocs.io/en/latest/api.html) for more information."
   ]
  }
 ],
 "metadata": {
  "kernelspec": {
   "display_name": "Python 3",
   "language": "python",
   "name": "python3"
  },
  "language_info": {
   "codemirror_mode": {
    "name": "ipython",
    "version": 3
   },
   "file_extension": ".py",
   "mimetype": "text/x-python",
   "name": "python",
   "nbconvert_exporter": "python",
   "pygments_lexer": "ipython3",
   "version": "3.6.7"
  }
 },
 "nbformat": 4,
 "nbformat_minor": 2
}

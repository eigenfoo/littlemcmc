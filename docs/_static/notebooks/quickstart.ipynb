{
 "cells": [
  {
   "cell_type": "markdown",
   "metadata": {},
   "source": [
    "# LittleMCMC Quickstart\n",
    "\n",
    "LittleMCMC is a lightweight and performant implementation of HMC and NUTS in Python, spun out of the PyMC project. In this quickstart tutorial, we will introduce LittleMCMC\n",
    "\n",
    "## Table of Contents\n",
    "\n",
    "- [Who should use LittleMCMC?](#Who-should-use-LittleMCMC?)\n",
    "- [Sampling](#Sampling)\n",
    "  - [Inspecting the Output of `lmc.sample`](#Inspecting-the-Output-of-lmc.sample)\n",
    "- [Other Modules](#Other-Modules)\n",
    "\n",
    "## Who should use LittleMCMC?\n",
    "\n",
    "<div class=\"alert alert-block alert-info\">\n",
    "LittleMCMC is a fairly bare bones library with a very niche use case. Most users will probably find that [PyMC3](https://github.com/pymc-devs/pymc3) will satisfy their needs, with better strength of support and quality of documentation.\n",
    "</div>\n",
    "\n",
    "If you:\n",
    "\n",
    "1. Have model with only continuous parameters,\n",
    "1. Are willing to manually \"unconstrain\" all of your model's parameters (if necessary),\n",
    "1. Have methods to compute the log probability of the model and its derivative, exposed via a Python callable,\n",
    "1. And all you need is an implementation of HMC/NUTS (preferably in Python) to sample from your model\n",
    "\n",
    "then you should consider using LittleMCMC!\n",
    "\n",
    "## Sampling"
   ]
  },
  {
   "cell_type": "code",
   "execution_count": 1,
   "metadata": {},
   "outputs": [],
   "source": [
    "import numpy as np\n",
    "import scipy\n",
    "import littlemcmc as lmc"
   ]
  },
  {
   "cell_type": "code",
   "execution_count": 2,
   "metadata": {},
   "outputs": [],
   "source": [
    "def logp_func(x, loc=0, scale=1):\n",
    "    return np.log(scipy.stats.norm.pdf(x, loc=loc, scale=scale))\n",
    "\n",
    "\n",
    "def dlogp_func(x, loc=0, scale=1):\n",
    "    return -(x - loc) / scale\n",
    "\n",
    "\n",
    "def logp_dlogp_func(x, loc=0, scale=1):\n",
    "    return logp_func(x, loc=loc, scale=scale), dlogp_func(x, loc=loc, scale=scale)"
   ]
  },
  {
   "cell_type": "code",
   "execution_count": 4,
   "metadata": {},
   "outputs": [
    {
     "name": "stderr",
     "output_type": "stream",
     "text": [
      "/Users/george/miniconda3/lib/python3.6/site-packages/ipykernel_launcher.py:2: RuntimeWarning: divide by zero encountered in log\n",
      "  \n",
      "/Users/george/miniconda3/lib/python3.6/site-packages/ipykernel_launcher.py:2: RuntimeWarning: divide by zero encountered in log\n",
      "  \n"
     ]
    },
    {
     "name": "stdout",
     "output_type": "stream",
     "text": [
      "\n"
     ]
    }
   ],
   "source": [
    "trace, stats = lmc.sample(\n",
    "    logp_dlogp_func=logp_dlogp_func,\n",
    "    size=1,\n",
    "    draws=1000,\n",
    "    tune=500,\n",
    "    step=lmc.NUTS(logp_dlogp_func=logp_dlogp_func, size=1),\n",
    "    chains=4,\n",
    "    cores=4,\n",
    "    progressbar=\"notebook\"\n",
    ")"
   ]
  },
  {
   "cell_type": "markdown",
   "metadata": {},
   "source": [
    "### Inspecting the Output of `lmc.sample`"
   ]
  },
  {
   "cell_type": "code",
   "execution_count": 11,
   "metadata": {},
   "outputs": [
    {
     "data": {
      "text/plain": [
       "array([ 0.40524023,  1.08392038,  0.55670893, ...,  1.45943626,\n",
       "       -1.32998667, -1.41146757])"
      ]
     },
     "execution_count": 11,
     "metadata": {},
     "output_type": "execute_result"
    }
   ],
   "source": [
    "trace"
   ]
  },
  {
   "cell_type": "code",
   "execution_count": 6,
   "metadata": {},
   "outputs": [
    {
     "data": {
      "text/plain": [
       "(4000,)"
      ]
     },
     "execution_count": 6,
     "metadata": {},
     "output_type": "execute_result"
    }
   ],
   "source": [
    "trace.shape"
   ]
  },
  {
   "cell_type": "code",
   "execution_count": 7,
   "metadata": {},
   "outputs": [
    {
     "data": {
      "text/plain": [
       "{'tune': array([0, 0, 0, ..., 0, 0, 0]),\n",
       " 'diverging': array([0, 0, 0, ..., 0, 0, 0]),\n",
       " 'depth': array([2, 2, 1, ..., 2, 2, 1]),\n",
       " 'mean_tree_accept': array([0.97665493, 0.78868745, 1.        , ..., 0.72849026, 1.        ,\n",
       "        0.94809981]),\n",
       " 'energy_error': array([ 0.03322461,  0.20651886, -0.17674548, ...,  0.5047543 ,\n",
       "        -0.08615261,  0.05329549]),\n",
       " 'energy': array([1.00504581, 1.89177346, 1.36899781, ..., 2.01105794, 2.37633095,\n",
       "        2.33462417]),\n",
       " 'tree_size': array([3, 3, 1, ..., 3, 3, 1]),\n",
       " 'max_energy_error': array([ 0.03570737,  0.37942464, -0.17674548, ...,  0.52111124,\n",
       "        -0.11420375,  0.05329549]),\n",
       " 'model_logp': array([-1.00104836, -1.50638023, -1.07390095, ..., -1.98391563,\n",
       "        -1.8033708 , -1.91505889]),\n",
       " 'step_size': array([1.29408046, 1.29408046, 1.29408046, ..., 0.79018588, 0.79018588,\n",
       "        0.79018588]),\n",
       " 'step_size_bar': array([1.34458123, 1.34458123, 1.34458123, ..., 1.21437191, 1.21437191,\n",
       "        1.21437191])}"
      ]
     },
     "execution_count": 7,
     "metadata": {},
     "output_type": "execute_result"
    }
   ],
   "source": [
    "stats"
   ]
  },
  {
   "cell_type": "code",
   "execution_count": 9,
   "metadata": {},
   "outputs": [
    {
     "data": {
      "text/plain": [
       "(4000,)"
      ]
     },
     "execution_count": 9,
     "metadata": {},
     "output_type": "execute_result"
    }
   ],
   "source": [
    "stats[\"diverging\"].shape"
   ]
  },
  {
   "cell_type": "markdown",
   "metadata": {},
   "source": [
    "## Other Modules\n",
    "\n",
    "LittleMCMC exposes:\n",
    "\n",
    "1. Two step methods: Hamiltonian Monte Carlo (HMC) and the No-U-Turn Sampler (NUTS)\n",
    "1. Quadpotentials (a.k.a. mass matrices or inverse metrics)\n",
    "1. Dual-averaging step size adaptation\n",
    "1. Leapfrog integration\n",
    "\n",
    "Refer to the [API Reference](https://littlemcmc.readthedocs.io/en/latest/api.html) for more information."
   ]
  }
 ],
 "metadata": {
  "kernelspec": {
   "display_name": "Python 3",
   "language": "python",
   "name": "python3"
  },
  "language_info": {
   "codemirror_mode": {
    "name": "ipython",
    "version": 3
   },
   "file_extension": ".py",
   "mimetype": "text/x-python",
   "name": "python",
   "nbconvert_exporter": "python",
   "pygments_lexer": "ipython3",
   "version": "3.6.7"
  }
 },
 "nbformat": 4,
 "nbformat_minor": 2
}

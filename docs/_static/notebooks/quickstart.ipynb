{
 "cells": [
  {
   "cell_type": "markdown",
   "metadata": {},
   "source": [
    "# LittleMCMC Quickstart\n",
    "\n",
    "LittleMCMC is a lightweight and performant implementation of HMC and NUTS in Python, spun out of the PyMC project. In this quickstart tutorial, we will walk through the main use case of LittleMCMC, and outline the various modules that may be of interest.\n",
    "\n",
    "## Table of Contents\n",
    "\n",
    "- [Who should use LittleMCMC?](#Who-should-use-LittleMCMC?)\n",
    "- [Sampling](#Sampling)\n",
    "  - [Inspecting the Output of lmc.sample](#Inspecting-the-Output-of-lmc.sample)\n",
    "- [Other Modules](#Other-Modules)\n",
    "\n",
    "## Who should use LittleMCMC?\n",
    "\n",
    "LittleMCMC is a fairly barebones library with a very niche use case. Most users will probably find that [PyMC3](https://github.com/pymc-devs/pymc3) will satisfy their needs, with better strength of support and quality of documentation.\n",
    "\n",
    "There are two expected use cases for LittleMCMC. Firstly, if you:\n",
    "\n",
    "1. Have model with only continuous parameters,\n",
    "1. Are willing to manually transform all of your model's parameters to the unconstrained space (if necessary),\n",
    "1. Have functions to compute the log probability of your model and its derivative, exposed through a Python callable,\n",
    "1. And all you need is an implementation of HMC/NUTS (preferably in Python) to sample from the posterior,\n",
    "\n",
    "then you should consider using LittleMCMC.\n",
    "\n",
    "Secondly, if you want to run algorithmic experiments on HMC/NUTS (in Python), without having to develop around the heavy machinery that accompanies other probabilistic programming frameworks (like [PyMC3](https://github.com/pymc-devs/pymc3/), [TensorFlow Probability](https://github.com/tensorflow/probability/) or [Stan](https://github.com/stan-dev/stan)), then you should consider running your experiments in LittleMCMC.\n",
    "\n",
    "## How to Sample"
   ]
  },
  {
   "cell_type": "code",
   "execution_count": 1,
   "metadata": {},
   "outputs": [],
   "source": [
    "import numpy as np\n",
    "import scipy\n",
    "import littlemcmc as lmc"
   ]
  },
  {
   "cell_type": "code",
   "execution_count": 2,
   "metadata": {},
   "outputs": [],
   "source": [
    "def logp_func(x, loc=0, scale=1):\n",
    "    return np.log(scipy.stats.norm.pdf(x, loc=loc, scale=scale))\n",
    "\n",
    "\n",
    "def dlogp_func(x, loc=0, scale=1):\n",
    "    return -(x - loc) / scale\n",
    "\n",
    "\n",
    "def logp_dlogp_func(x, loc=0, scale=1):\n",
    "    return logp_func(x, loc=loc, scale=scale), dlogp_func(x, loc=loc, scale=scale)"
   ]
  },
  {
   "cell_type": "code",
   "execution_count": 3,
   "metadata": {},
   "outputs": [
    {
     "data": {
      "application/vnd.jupyter.widget-view+json": {
       "model_id": "ad3ad5231fb54cd3b19d9cda401867c3",
       "version_major": 2,
       "version_minor": 0
      },
      "text/plain": [
       "HBox(children=(FloatProgress(value=0.0, max=1500.0), HTML(value='')))"
      ]
     },
     "metadata": {},
     "output_type": "display_data"
    },
    {
     "name": "stdout",
     "output_type": "stream",
     "text": [
      "\n"
     ]
    },
    {
     "data": {
      "application/vnd.jupyter.widget-view+json": {
       "model_id": "cf95cc16521d4d429bc3880bc2181370",
       "version_major": 2,
       "version_minor": 0
      },
      "text/plain": [
       "HBox(children=(FloatProgress(value=0.0, max=1500.0), HTML(value='')))"
      ]
     },
     "metadata": {},
     "output_type": "display_data"
    },
    {
     "name": "stdout",
     "output_type": "stream",
     "text": [
      "\n"
     ]
    },
    {
     "data": {
      "application/vnd.jupyter.widget-view+json": {
       "model_id": "a929c74c7e21461a8a3dd20defbce79a",
       "version_major": 2,
       "version_minor": 0
      },
      "text/plain": [
       "HBox(children=(FloatProgress(value=0.0, max=1500.0), HTML(value='')))"
      ]
     },
     "metadata": {},
     "output_type": "display_data"
    },
    {
     "name": "stdout",
     "output_type": "stream",
     "text": [
      "\n"
     ]
    },
    {
     "data": {
      "application/vnd.jupyter.widget-view+json": {
       "model_id": "be9af9394af84e3ea7df22971c4ac8a5",
       "version_major": 2,
       "version_minor": 0
      },
      "text/plain": [
       "HBox(children=(FloatProgress(value=0.0, max=1500.0), HTML(value='')))"
      ]
     },
     "metadata": {},
     "output_type": "display_data"
    },
    {
     "name": "stdout",
     "output_type": "stream",
     "text": [
      "\n"
     ]
    }
   ],
   "source": [
    "trace, stats = lmc.sample(\n",
    "    logp_dlogp_func=logp_dlogp_func,\n",
    "    size=1,\n",
    "    draws=1000,\n",
    "    tune=500,\n",
    "    step=lmc.NUTS(logp_dlogp_func=logp_dlogp_func, size=1),\n",
    "    chains=4,\n",
    "    cores=1,\n",
    "    progressbar=\"notebook\"\n",
    ")"
   ]
  },
  {
   "cell_type": "markdown",
   "metadata": {},
   "source": [
    "### Inspecting the Output of `lmc.sample`"
   ]
  },
  {
   "cell_type": "code",
   "execution_count": 4,
   "metadata": {},
   "outputs": [
    {
     "data": {
      "text/plain": [
       "array([-0.78591797, -0.78591797,  0.40463203, ..., -0.26565521,\n",
       "       -0.08194277, -0.46627069])"
      ]
     },
     "execution_count": 4,
     "metadata": {},
     "output_type": "execute_result"
    }
   ],
   "source": [
    "trace"
   ]
  },
  {
   "cell_type": "code",
   "execution_count": 5,
   "metadata": {},
   "outputs": [
    {
     "data": {
      "text/plain": [
       "(4000,)"
      ]
     },
     "execution_count": 5,
     "metadata": {},
     "output_type": "execute_result"
    }
   ],
   "source": [
    "trace.shape"
   ]
  },
  {
   "cell_type": "code",
   "execution_count": 6,
   "metadata": {},
   "outputs": [
    {
     "data": {
      "text/plain": [
       "{'depth': array([2, 1, 2, ..., 1, 2, 2]),\n",
       " 'step_size': array([0.9855259, 0.9855259, 0.9855259, ..., 0.9855259, 0.9855259,\n",
       "        0.9855259]),\n",
       " 'tune': array([False, False, False, ..., False, False, False]),\n",
       " 'mean_tree_accept': array([0.78924113, 0.9360469 , 0.77989126, ..., 1.        , 0.99854255,\n",
       "        0.964025  ]),\n",
       " 'step_size_bar': array([1.24437951, 1.24437951, 1.24437951, ..., 1.24437951, 1.24437951,\n",
       "        1.24437951]),\n",
       " 'tree_size': array([3., 1., 3., ..., 1., 3., 3.]),\n",
       " 'diverging': array([False, False, False, ..., False, False, False]),\n",
       " 'energy_error': array([-0.20114142,  0.        , -0.10037153, ..., -0.0670156 ,\n",
       "        -0.01411979,  0.04658692]),\n",
       " 'energy': array([2.40148835, 1.44003007, 1.81443282, ..., 1.04950205, 0.94948047,\n",
       "        1.04591942]),\n",
       " 'max_energy_error': array([ 0.50040995,  0.0660897 ,  0.465291  , ..., -0.0670156 ,\n",
       "        -0.01411979,  0.05661096]),\n",
       " 'model_logp': array([-1.22777206, -1.22777206, -1.00080207, ..., -0.95422488,\n",
       "        -0.92229584, -1.02764271])}"
      ]
     },
     "execution_count": 6,
     "metadata": {},
     "output_type": "execute_result"
    }
   ],
   "source": [
    "stats"
   ]
  },
  {
   "cell_type": "code",
   "execution_count": 7,
   "metadata": {},
   "outputs": [
    {
     "data": {
      "text/plain": [
       "(4000,)"
      ]
     },
     "execution_count": 7,
     "metadata": {},
     "output_type": "execute_result"
    }
   ],
   "source": [
    "stats[\"diverging\"].shape"
   ]
  },
  {
   "cell_type": "markdown",
   "metadata": {},
   "source": [
    "## Other Modules\n",
    "\n",
    "LittleMCMC exposes:\n",
    "\n",
    "1. Two step methods: [Hamiltonian Monte Carlo (HMC)](https://littlemcmc.readthedocs.io/en/latest/generated/littlemcmc.HamiltonianMC.html#littlemcmc.HamiltonianMC) and the [No-U-Turn Sampler (NUTS)](https://littlemcmc.readthedocs.io/en/latest/generated/littlemcmc.NUTS.html#littlemcmc.NUTS).\n",
    "1. Classes for various [quadpotentials](https://littlemcmc.readthedocs.io/en/latest/api.html#quadpotentials-a-k-a-mass-matrices) (a.k.a. mass matrices or inverse metrics) and mass matrix adaptation routines\n",
    "1. A class for [dual-averaging step size adaptation](https://littlemcmc.readthedocs.io/en/latest/generated/littlemcmc.step_sizes.DualAverageAdaptation.html#littlemcmc.step_sizes.DualAverageAdaptation)\n",
    "1. [A leapfrog integrator](https://littlemcmc.readthedocs.io/en/latest/generated/littlemcmc.integration.CpuLeapfrogIntegrator.html#littlemcmc.integration.CpuLeapfrogIntegrator)\n",
    "\n",
    "Refer to the [API Reference](https://littlemcmc.readthedocs.io/en/latest/api.html) for more information."
   ]
  }
 ],
 "metadata": {
  "kernelspec": {
   "display_name": "Python 3",
   "language": "python",
   "name": "python3"
  },
  "language_info": {
   "codemirror_mode": {
    "name": "ipython",
    "version": 3
   },
   "file_extension": ".py",
   "mimetype": "text/x-python",
   "name": "python",
   "nbconvert_exporter": "python",
   "pygments_lexer": "ipython3",
   "version": "3.6.8"
  }
 },
 "nbformat": 4,
 "nbformat_minor": 2
}

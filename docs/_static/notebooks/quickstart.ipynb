{
 "cells": [
  {
   "cell_type": "markdown",
   "metadata": {},
   "source": [
    "# LittleMCMC Quickstart\n",
    "\n",
    "LittleMCMC is a lightweight and performant implementation of HMC and NUTS in Python, spun out of the PyMC project. In this quickstart tutorial, we will walk through the main use case of LittleMCMC, and outline the various modules that may be of interest.\n",
    "\n",
    "## Table of Contents\n",
    "\n",
    "- [Who should use LittleMCMC?](#who-should-use-littlemcmc)\n",
    "- [Sampling](#how-to-sample)\n",
    "  - [Inspecting the Output of lmc.sample](#inspecting-the-output-of-lmc-sample)\n",
    "- [Customizing the Default NUTS Sampler](#customizing-the-default-nuts-sampler)\n",
    "- [Other Modules](#other-modules)\n",
    "\n",
    "## Who should use LittleMCMC?\n",
    "\n",
    "LittleMCMC is a fairly barebones library with a very niche use case. Most users will probably find that [PyMC3](https://github.com/pymc-devs/pymc3) will satisfy their needs, with better strength of support and quality of documentation.\n",
    "\n",
    "There are two expected use cases for LittleMCMC. Firstly, if you:\n",
    "\n",
    "1. Have model with only continuous parameters,\n",
    "1. Are willing to manually transform all of your model's parameters to the unconstrained space (if necessary),\n",
    "1. Have functions to compute the log probability of your model and its derivative, exposed through a Python callable,\n",
    "1. And all you need is an implementation of HMC/NUTS (preferably in Python) to sample from the posterior,\n",
    "\n",
    "then you should consider using LittleMCMC.\n",
    "\n",
    "Secondly, if you want to run algorithmic experiments on HMC/NUTS (in Python), without having to develop around the heavy machinery that accompanies other probabilistic programming frameworks (like [PyMC3](https://github.com/pymc-devs/pymc3/), [TensorFlow Probability](https://github.com/tensorflow/probability/) or [Stan](https://github.com/stan-dev/stan)), then you should consider running your experiments in LittleMCMC.\n",
    "\n",
    "## How to Sample"
   ]
  },
  {
   "cell_type": "code",
   "execution_count": 1,
   "metadata": {},
   "outputs": [],
   "source": [
    "import numpy as np\n",
    "import scipy\n",
    "import littlemcmc as lmc"
   ]
  },
  {
   "cell_type": "code",
   "execution_count": 2,
   "metadata": {},
   "outputs": [],
   "source": [
    "def logp_func(x, loc=0, scale=1):\n",
    "    return np.log(scipy.stats.norm.pdf(x, loc=loc, scale=scale))\n",
    "\n",
    "\n",
    "def dlogp_func(x, loc=0, scale=1):\n",
    "    return -(x - loc) / scale\n",
    "\n",
    "\n",
    "def logp_dlogp_func(x, loc=0, scale=1):\n",
    "    return logp_func(x, loc=loc, scale=scale), dlogp_func(x, loc=loc, scale=scale)"
   ]
  },
  {
   "cell_type": "code",
   "execution_count": 3,
   "metadata": {},
   "outputs": [
    {
     "name": "stderr",
     "output_type": "stream",
     "text": [
      "/home/george/littlemcmc/venv/lib/python3.6/site-packages/ipykernel_launcher.py:2: RuntimeWarning: divide by zero encountered in log\n",
      "  \n"
     ]
    }
   ],
   "source": [
    "trace, stats = lmc.sample(\n",
    "    logp_dlogp_func=logp_dlogp_func,\n",
    "    model_ndim=1,\n",
    "    draws=1000,\n",
    "    tune=500,\n",
    "    progressbar=None,  # HTML progress bars don't render well in RST.\n",
    ")"
   ]
  },
  {
   "cell_type": "markdown",
   "metadata": {},
   "source": [
    "### Inspecting the Output of `lmc.sample`"
   ]
  },
  {
   "cell_type": "code",
   "execution_count": 4,
   "metadata": {},
   "outputs": [
    {
     "data": {
      "text/plain": [
       "array([[ 0.91989736,  0.89910128,  0.88961585, ...,  1.31528136,\n",
       "        -1.52068354, -0.61179308]])"
      ]
     },
     "execution_count": 4,
     "metadata": {},
     "output_type": "execute_result"
    }
   ],
   "source": [
    "trace"
   ]
  },
  {
   "cell_type": "code",
   "execution_count": 5,
   "metadata": {},
   "outputs": [
    {
     "data": {
      "text/plain": [
       "(1, 4000)"
      ]
     },
     "execution_count": 5,
     "metadata": {},
     "output_type": "execute_result"
    }
   ],
   "source": [
    "trace.shape"
   ]
  },
  {
   "cell_type": "code",
   "execution_count": 6,
   "metadata": {},
   "outputs": [
    {
     "data": {
      "text/plain": [
       "{'depth': array([2, 2, 1, ..., 2, 2, 1]),\n",
       " 'step_size': array([1.15894778, 1.15894778, 1.15894778, ..., 1.50735926, 1.50735926,\n",
       "        1.50735926]),\n",
       " 'tune': array([False, False, False, ..., False, False, False]),\n",
       " 'mean_tree_accept': array([0.75240493, 1.        , 1.        , ..., 0.96866415, 0.96184355,\n",
       "        1.        ]),\n",
       " 'step_size_bar': array([1.24138909, 1.24138909, 1.24138909, ..., 1.38460359, 1.38460359,\n",
       "        1.38460359]),\n",
       " 'tree_size': array([3., 3., 1., ..., 3., 3., 1.]),\n",
       " 'diverging': array([False, False, False, ..., False, False, False]),\n",
       " 'energy_error': array([ 0.13713966, -0.00798758, -0.00358263, ...,  0.09872431,\n",
       "         0.1215682 , -0.40449202]),\n",
       " 'energy': array([1.913862  , 1.5033014 , 1.48600433, ..., 1.82498413, 2.11625971,\n",
       "        1.70961724]),\n",
       " 'max_energy_error': array([ 0.45459613, -0.09927514, -0.00358263, ..., -0.25742807,\n",
       "        -0.35807476, -0.40449202]),\n",
       " 'model_logp': array([-1.34204411, -1.32313009, -1.31464672, ..., -1.78392107,\n",
       "        -2.07517774, -1.10608392])}"
      ]
     },
     "execution_count": 6,
     "metadata": {},
     "output_type": "execute_result"
    }
   ],
   "source": [
    "stats"
   ]
  },
  {
   "cell_type": "code",
   "execution_count": 7,
   "metadata": {},
   "outputs": [
    {
     "data": {
      "text/plain": [
       "(4000,)"
      ]
     },
     "execution_count": 7,
     "metadata": {},
     "output_type": "execute_result"
    }
   ],
   "source": [
    "stats[\"diverging\"].shape"
   ]
  },
  {
   "cell_type": "markdown",
   "metadata": {},
   "source": [
    "## Customizing the Default NUTS Sampler\n",
    "\n",
    "By default, `lmc.sample` samples using NUTS with sane defaults. These defaults can be override by either:\n",
    "\n",
    "1. Passing keyword arguments from `lmc.NUTS` into `lmc.sample`, or\n",
    "2. Constructing an `lmc.NUTS` sampler, and passing that to `lmc.sample`. This method also allows you to choose to other samplers, such as `lmc.HamiltonianMC`.\n",
    "\n",
    "For example, suppose you want to increase the `target_accept` from the default `0.8` to `0.9`. The following two cells are equivalent:"
   ]
  },
  {
   "cell_type": "code",
   "execution_count": 8,
   "metadata": {},
   "outputs": [],
   "source": [
    "trace, stats = lmc.sample(\n",
    "    logp_dlogp_func=logp_dlogp_func,\n",
    "    model_ndim=1,\n",
    "    draws=1000,\n",
    "    tune=500,\n",
    "    progressbar=None,\n",
    "    target_accept=0.9,\n",
    ")"
   ]
  },
  {
   "cell_type": "code",
   "execution_count": 9,
   "metadata": {},
   "outputs": [],
   "source": [
    "step = lmc.NUTS(logp_dlogp_func=logp_dlogp_func, model_ndim=1, target_accept=0.9)\n",
    "trace, stats = lmc.sample(\n",
    "    logp_dlogp_func=logp_dlogp_func,\n",
    "    model_ndim=1,\n",
    "    step=step,\n",
    "    draws=1000,\n",
    "    tune=500,\n",
    "    progressbar=None,\n",
    ")"
   ]
  },
  {
   "cell_type": "markdown",
   "metadata": {},
   "source": [
    "For a list of keyword arguments that `lmc.NUTS` accepts, please refer to the [API reference for `lmc.NUTS`](https://littlemcmc.readthedocs.io/en/latest/generated/littlemcmc.NUTS.html#littlemcmc.NUTS).\n",
    "\n",
    "## Other Modules\n",
    "\n",
    "LittleMCMC exposes:\n",
    "\n",
    "1. Two step methods (a.k.a. samplers): [`littlemcmc.HamiltonianMC` (Hamiltonian Monte Carlo)](https://littlemcmc.readthedocs.io/en/latest/generated/littlemcmc.HamiltonianMC.html#littlemcmc.HamiltonianMC) and the [`littlemcmc.NUTS` (No-U-Turn Sampler)](https://littlemcmc.readthedocs.io/en/latest/generated/littlemcmc.NUTS.html#littlemcmc.NUTS)\n",
    "1. Various quadpotentials (a.k.a. mass matrices or inverse metrics) in [`littlemcmc.quadpotential`](https://littlemcmc.readthedocs.io/en/latest/api.html#quadpotentials-a-k-a-mass-matrices), along with mass matrix adaptation routines\n",
    "1. Dual-averaging step size adaptation in [`littlemcmc.step_sizes`](https://littlemcmc.readthedocs.io/en/latest/generated/littlemcmc.step_sizes.DualAverageAdaptation.html#littlemcmc.step_sizes.DualAverageAdaptation)\n",
    "1. A leapfrog integrator in [`littlemcmc.integration`](https://littlemcmc.readthedocs.io/en/latest/generated/littlemcmc.integration.CpuLeapfrogIntegrator.html#littlemcmc.integration.CpuLeapfrogIntegrator)\n",
    "\n",
    "These modules should allow for easy experimentation with the sampler. Please refer to the [API Reference](https://littlemcmc.readthedocs.io/en/latest/api.html) for more information."
   ]
  }
 ],
 "metadata": {
  "kernelspec": {
   "display_name": "Python 3",
   "language": "python",
   "name": "python3"
  },
  "language_info": {
   "codemirror_mode": {
    "name": "ipython",
    "version": 3
   },
   "file_extension": ".py",
   "mimetype": "text/x-python",
   "name": "python",
   "nbconvert_exporter": "python",
   "pygments_lexer": "ipython3",
   "version": "3.6.9"
  }
 },
 "nbformat": 4,
 "nbformat_minor": 2
}

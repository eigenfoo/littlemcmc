{
 "cells": [
  {
   "cell_type": "markdown",
   "metadata": {},
   "source": [
    "# LittleMCMC Quickstart\n",
    "\n",
    "LittleMCMC is a lightweight and performant implementation of HMC and NUTS in Python, spun out of the PyMC project. In this quickstart tutorial, we will walk through the main use case of LittleMCMC, and outline the various modules that may be of interest.\n",
    "\n",
    "## Table of Contents\n",
    "\n",
    "- [Who should use LittleMCMC?](#who-should-use-littlemcmc)\n",
    "- [Sampling](#how-to-sample)\n",
    "  - [Inspecting the Output of lmc.sample](#inspecting-the-output-of-lmc-sample)\n",
    "- [Other Modules](#other-modules)\n",
    "\n",
    "## Who should use LittleMCMC?\n",
    "\n",
    "LittleMCMC is a fairly barebones library with a very niche use case. Most users will probably find that [PyMC3](https://github.com/pymc-devs/pymc3) will satisfy their needs, with better strength of support and quality of documentation.\n",
    "\n",
    "There are two expected use cases for LittleMCMC. Firstly, if you:\n",
    "\n",
    "1. Have model with only continuous parameters,\n",
    "1. Are willing to manually transform all of your model's parameters to the unconstrained space (if necessary),\n",
    "1. Have functions to compute the log probability of your model and its derivative, exposed through a Python callable,\n",
    "1. And all you need is an implementation of HMC/NUTS (preferably in Python) to sample from the posterior,\n",
    "\n",
    "then you should consider using LittleMCMC.\n",
    "\n",
    "Secondly, if you want to run algorithmic experiments on HMC/NUTS (in Python), without having to develop around the heavy machinery that accompanies other probabilistic programming frameworks (like [PyMC3](https://github.com/pymc-devs/pymc3/), [TensorFlow Probability](https://github.com/tensorflow/probability/) or [Stan](https://github.com/stan-dev/stan)), then you should consider running your experiments in LittleMCMC.\n",
    "\n",
    "## How to Sample"
   ]
  },
  {
   "cell_type": "code",
   "execution_count": 1,
   "metadata": {},
   "outputs": [],
   "source": [
    "import numpy as np\n",
    "import scipy\n",
    "import littlemcmc as lmc"
   ]
  },
  {
   "cell_type": "code",
   "execution_count": 2,
   "metadata": {},
   "outputs": [],
   "source": [
    "def logp_func(x, loc=0, scale=1):\n",
    "    return np.log(scipy.stats.norm.pdf(x, loc=loc, scale=scale))\n",
    "\n",
    "\n",
    "def dlogp_func(x, loc=0, scale=1):\n",
    "    return -(x - loc) / scale\n",
    "\n",
    "\n",
    "def logp_dlogp_func(x, loc=0, scale=1):\n",
    "    return logp_func(x, loc=loc, scale=scale), dlogp_func(x, loc=loc, scale=scale)"
   ]
  },
  {
   "cell_type": "code",
   "execution_count": 3,
   "metadata": {},
   "outputs": [
    {
     "data": {
      "application/vnd.jupyter.widget-view+json": {
       "model_id": "3b7b8bf9f488441a88a1ee5200ede500",
       "version_major": 2,
       "version_minor": 0
      },
      "text/plain": [
       "HBox(children=(FloatProgress(value=0.0, max=1500.0), HTML(value='')))"
      ]
     },
     "metadata": {},
     "output_type": "display_data"
    },
    {
     "name": "stdout",
     "output_type": "stream",
     "text": [
      "\n"
     ]
    },
    {
     "data": {
      "application/vnd.jupyter.widget-view+json": {
       "model_id": "7946d1c195cc454782d61478ea0d29eb",
       "version_major": 2,
       "version_minor": 0
      },
      "text/plain": [
       "HBox(children=(FloatProgress(value=0.0, max=1500.0), HTML(value='')))"
      ]
     },
     "metadata": {},
     "output_type": "display_data"
    },
    {
     "name": "stdout",
     "output_type": "stream",
     "text": [
      "\n"
     ]
    },
    {
     "data": {
      "application/vnd.jupyter.widget-view+json": {
       "model_id": "ab215cd78dfd47a7905ec54924078c85",
       "version_major": 2,
       "version_minor": 0
      },
      "text/plain": [
       "HBox(children=(FloatProgress(value=0.0, max=1500.0), HTML(value='')))"
      ]
     },
     "metadata": {},
     "output_type": "display_data"
    },
    {
     "name": "stdout",
     "output_type": "stream",
     "text": [
      "\n"
     ]
    },
    {
     "data": {
      "application/vnd.jupyter.widget-view+json": {
       "model_id": "71c82e3a2b5a43729acdf4ecfece75b9",
       "version_major": 2,
       "version_minor": 0
      },
      "text/plain": [
       "HBox(children=(FloatProgress(value=0.0, max=1500.0), HTML(value='')))"
      ]
     },
     "metadata": {},
     "output_type": "display_data"
    },
    {
     "name": "stdout",
     "output_type": "stream",
     "text": [
      "\n"
     ]
    }
   ],
   "source": [
    "trace, stats = lmc.sample(\n",
    "    logp_dlogp_func=logp_dlogp_func,\n",
    "    size=1,\n",
    "    draws=1000,\n",
    "    tune=500,\n",
    "    step=lmc.NUTS(logp_dlogp_func=logp_dlogp_func, size=1),\n",
    "    chains=4,\n",
    "    cores=1,\n",
    "    progressbar=\"notebook\"\n",
    ")"
   ]
  },
  {
   "cell_type": "markdown",
   "metadata": {},
   "source": [
    "### Inspecting the Output of `lmc.sample`"
   ]
  },
  {
   "cell_type": "code",
   "execution_count": 4,
   "metadata": {},
   "outputs": [
    {
     "data": {
      "text/plain": [
       "array([[ 0.98638645,  1.594521  ,  0.89394842, ...,  0.21827979,\n",
       "         0.35573737, -0.23779242]])"
      ]
     },
     "execution_count": 4,
     "metadata": {},
     "output_type": "execute_result"
    }
   ],
   "source": [
    "trace"
   ]
  },
  {
   "cell_type": "code",
   "execution_count": 5,
   "metadata": {},
   "outputs": [
    {
     "data": {
      "text/plain": [
       "(1, 4000)"
      ]
     },
     "execution_count": 5,
     "metadata": {},
     "output_type": "execute_result"
    }
   ],
   "source": [
    "trace.shape"
   ]
  },
  {
   "cell_type": "code",
   "execution_count": 10,
   "metadata": {},
   "outputs": [
    {
     "data": {
      "text/plain": [
       "{'depth': array([1, 1, 2, ..., 2, 1, 2]),\n",
       " 'step_size': array([1.94303615, 1.94303615, 1.94303615, ..., 1.94303615, 1.94303615,\n",
       "        1.94303615]),\n",
       " 'tune': array([False, False, False, ..., False, False, False]),\n",
       " 'mean_tree_accept': array([1.        , 0.72530117, 0.85098591, ..., 0.990029  , 0.98398404,\n",
       "        1.        ]),\n",
       " 'step_size_bar': array([1.44061287, 1.44061287, 1.44061287, ..., 1.44061287, 1.44061287,\n",
       "        1.44061287]),\n",
       " 'tree_size': array([1., 1., 3., ..., 3., 1., 3.]),\n",
       " 'diverging': array([False, False, False, ..., False, False, False]),\n",
       " 'energy_error': array([-0.04662742,  0.32116831, -0.3567352 , ..., -0.0042028 ,\n",
       "         0.0161456 , -0.0143246 ]),\n",
       " 'energy': array([1.66214065, 2.33856467, 3.0377291 , ..., 0.99966459, 0.98942996,\n",
       "        0.98859287]),\n",
       " 'max_energy_error': array([-0.04662742,  0.32116831,  0.47937797, ...,  0.01749271,\n",
       "         0.0161456 , -0.01805088]),\n",
       " 'model_logp': array([-1.40541765, -2.19018714, -1.31851043, ..., -0.94276157,\n",
       "        -0.98221307, -0.94721115])}"
      ]
     },
     "execution_count": 10,
     "metadata": {},
     "output_type": "execute_result"
    }
   ],
   "source": [
    "stats"
   ]
  },
  {
   "cell_type": "code",
   "execution_count": 11,
   "metadata": {},
   "outputs": [
    {
     "data": {
      "text/plain": [
       "(4000,)"
      ]
     },
     "execution_count": 11,
     "metadata": {},
     "output_type": "execute_result"
    }
   ],
   "source": [
    "stats[\"diverging\"].shape"
   ]
  },
  {
   "cell_type": "markdown",
   "metadata": {},
   "source": [
    "## Other Modules\n",
    "\n",
    "LittleMCMC exposes:\n",
    "\n",
    "1. Two step methods: [Hamiltonian Monte Carlo (HMC)](https://littlemcmc.readthedocs.io/en/latest/generated/littlemcmc.HamiltonianMC.html#littlemcmc.HamiltonianMC) and the [No-U-Turn Sampler (NUTS)](https://littlemcmc.readthedocs.io/en/latest/generated/littlemcmc.NUTS.html#littlemcmc.NUTS).\n",
    "1. Classes for various [quadpotentials](https://littlemcmc.readthedocs.io/en/latest/api.html#quadpotentials-a-k-a-mass-matrices) (a.k.a. mass matrices or inverse metrics) and mass matrix adaptation routines\n",
    "1. A class for [dual-averaging step size adaptation](https://littlemcmc.readthedocs.io/en/latest/generated/littlemcmc.step_sizes.DualAverageAdaptation.html#littlemcmc.step_sizes.DualAverageAdaptation)\n",
    "1. [A leapfrog integrator](https://littlemcmc.readthedocs.io/en/latest/generated/littlemcmc.integration.CpuLeapfrogIntegrator.html#littlemcmc.integration.CpuLeapfrogIntegrator)\n",
    "\n",
    "These modules should allow for easy experimentation with the sampler. Please refer to the [API Reference](https://littlemcmc.readthedocs.io/en/latest/api.html) for more information."
   ]
  }
 ],
 "metadata": {
  "kernelspec": {
   "display_name": "Python 3",
   "language": "python",
   "name": "python3"
  },
  "language_info": {
   "codemirror_mode": {
    "name": "ipython",
    "version": 3
   },
   "file_extension": ".py",
   "mimetype": "text/x-python",
   "name": "python",
   "nbconvert_exporter": "python",
   "pygments_lexer": "ipython3",
   "version": "3.6.8"
  }
 },
 "nbformat": 4,
 "nbformat_minor": 2
}

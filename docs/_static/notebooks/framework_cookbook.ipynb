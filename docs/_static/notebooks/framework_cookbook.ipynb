{
 "cells": [
  {
   "cell_type": "markdown",
   "metadata": {},
   "source": [
    "# Framework Cookbook\n",
    "\n",
    "`littlemcmc` only needs a `logp_dlogp_func`, which is framework-agnostic. To illustrate this, this cookbook implements linear in multiple frameworks, and samples them with `littlemcmc`. At the end of this notebook, we load the inference traces and sampler statistics into ArviZ and do some basic visualizations.\n"
   ]
  },
  {
   "cell_type": "code",
   "execution_count": 1,
   "metadata": {},
   "outputs": [],
   "source": [
    "import littlemcmc as lmc"
   ]
  },
  {
   "cell_type": "markdown",
   "metadata": {},
   "source": [
    "## Create and Visualize Data"
   ]
  },
  {
   "cell_type": "code",
   "execution_count": 2,
   "metadata": {},
   "outputs": [
    {
     "data": {
      "image/png": "[encoded data removed]",
      "text/plain": [
       "<Figure size 432x288 with 1 Axes>"
      ]
     },
     "metadata": {
      "needs_background": "light"
     },
     "output_type": "display_data"
    }
   ],
   "source": [
    "import numpy as np\n",
    "import matplotlib.pyplot as plt\n",
    "\n",
    "np.random.seed(42)\n",
    "\n",
    "true_params = np.array([0.5, -2.3, -0.23])\n",
    "\n",
    "N = 50\n",
    "t = np.linspace(0, 10, 2)\n",
    "x = np.random.uniform(0, 10, 50)\n",
    "y = x * true_params[0] + true_params[1]\n",
    "y_obs = y + np.exp(true_params[-1]) * np.random.randn(N)\n",
    "\n",
    "plt.plot(x, y_obs, \".k\", label=\"observations\")\n",
    "plt.plot(t, true_params[0]*t + true_params[1], label=\"ground truth\")\n",
    "plt.xlabel(\"x\")\n",
    "plt.ylabel(\"y\")\n",
    "plt.legend()\n",
    "plt.show()"
   ]
  },
  {
   "cell_type": "markdown",
   "metadata": {},
   "source": [
    "## PyTorch"
   ]
  },
  {
   "cell_type": "code",
   "execution_count": 3,
   "metadata": {},
   "outputs": [],
   "source": [
    "import torch\n",
    "\n",
    "class LinearModel(torch.nn.Module):\n",
    "    def __init__(self):\n",
    "        super(LinearModel, self).__init__()\n",
    "        self.m = torch.nn.Parameter(torch.tensor(0.0, dtype=torch.float64))\n",
    "        self.b = torch.nn.Parameter(torch.tensor(0.0, dtype=torch.float64))\n",
    "        self.logs = torch.nn.Parameter(torch.tensor(0.0, dtype=torch.float64))\n",
    "        \n",
    "    def forward(self, x, y):\n",
    "        mean = self.m * x + self.b\n",
    "        loglike = -0.5 * torch.sum((y - mean) ** 2 * torch.exp(-2 * self.logs) + 2 * self.logs)\n",
    "        return loglike\n",
    "\n",
    "torch_model = torch.jit.script(LinearModel())\n",
    "torch_params = [torch_model.m, torch_model.b, torch_model.logs]\n",
    "args = [torch.tensor(x, dtype=torch.double), torch.tensor(y_obs, dtype=torch.double)]\n",
    "\n",
    "def torch_logp_dlogp_func(x):\n",
    "    for i, p in enumerate(torch_params):\n",
    "        p.data = torch.tensor(x[i])\n",
    "        if p.grad is not None:\n",
    "            p.grad.detach_()\n",
    "            p.grad.zero_()\n",
    "\n",
    "    result = torch_model(*args)\n",
    "    result.backward()\n",
    "\n",
    "    return result.detach().numpy(), np.array([p.grad.numpy() for p in torch_params])"
   ]
  },
  {
   "cell_type": "code",
   "execution_count": 4,
   "metadata": {},
   "outputs": [
    {
     "name": "stdout",
     "output_type": "stream",
     "text": [
      "298 µs ± 43.8 µs per loop (mean ± std. dev. of 7 runs, 1000 loops each)\n"
     ]
    }
   ],
   "source": [
    "%timeit torch_logp_dlogp_func(np.zeros(3))"
   ]
  },
  {
   "cell_type": "markdown",
   "metadata": {},
   "source": [
    "Please see [`sample_pytorch_logp_dlogp_func.py`](https://github.com/eigenfoo/littlemcmc/tree/main/docs/_static/scripts/sample_pytorch_logp_dlogp_func.py) for a working example. Theoretically, however, all that's needed is to run the following snippet:\n",
    "\n",
    "```python\n",
    "trace, stats = lmc.sample(\n",
    "    logp_dlogp_func=torch_logp_dlogp_func, model_ndim=3, tune=500, draws=1000, chains=4,\n",
    ")\n",
    "```"
   ]
  },
  {
   "cell_type": "markdown",
   "metadata": {},
   "source": [
    "## JAX"
   ]
  },
  {
   "cell_type": "code",
   "execution_count": 5,
   "metadata": {},
   "outputs": [],
   "source": [
    "from jax.config import config\n",
    "config.update(\"jax_enable_x64\", True)\n",
    "\n",
    "import jax\n",
    "import jax.numpy as jnp\n",
    "\n",
    "def jax_model(params):\n",
    "    mean = params[0] * x + params[1]\n",
    "    loglike = -0.5 * jnp.sum((y_obs - mean) ** 2 * jnp.exp(-2 * params[2]) + 2 * params[2])\n",
    "    return loglike\n",
    "\n",
    "@jax.jit\n",
    "def jax_model_and_grad(x):\n",
    "    return jax_model(x), jax.grad(jax_model)(x)\n",
    "\n",
    "\n",
    "def jax_logp_dlogp_func(x):\n",
    "    v, g = jax_model_and_grad(x)\n",
    "    return np.asarray(v), np.asarray(g)"
   ]
  },
  {
   "cell_type": "code",
   "execution_count": 6,
   "metadata": {},
   "outputs": [
    {
     "name": "stderr",
     "output_type": "stream",
     "text": [
      "/Users/george/miniconda3/lib/python3.7/site-packages/jax/lib/xla_bridge.py:125: UserWarning: No GPU/TPU found, falling back to CPU.\n",
      "  warnings.warn('No GPU/TPU found, falling back to CPU.')\n"
     ]
    },
    {
     "name": "stdout",
     "output_type": "stream",
     "text": [
      "269 µs ± 48.6 µs per loop (mean ± std. dev. of 7 runs, 1 loop each)\n"
     ]
    }
   ],
   "source": [
    "%timeit jax_logp_dlogp_func(np.zeros(3))"
   ]
  },
  {
   "cell_type": "markdown",
   "metadata": {
    "scrolled": true
   },
   "source": [
    "Please see [`sample_jax_logp_dlogp_func.py`](https://github.com/eigenfoo/littlemcmc/tree/main/docs/_static/scripts/sample_jax_logp_dlogp_func.py) for a working example. Theoretically, however, all that's needed is to run the following snippet:\n",
    "\n",
    "```python\n",
    "trace, stats = lmc.sample(\n",
    "    logp_dlogp_func=jax_logp_dlogp_func, model_ndim=3, tune=500, draws=1000, chains=4,\n",
    ")\n",
    "```"
   ]
  },
  {
   "cell_type": "markdown",
   "metadata": {},
   "source": [
    "## PyMC3"
   ]
  },
  {
   "cell_type": "code",
   "execution_count": 7,
   "metadata": {},
   "outputs": [],
   "source": [
    "import pymc3 as pm\n",
    "import theano\n",
    "\n",
    "with pm.Model() as pm_model:\n",
    "    pm_params = pm.Flat(\"pm_params\", shape=3)\n",
    "    mean = pm_params[0] * x + pm_params[1]\n",
    "    pm.Normal(\"obs\", mu=mean, sigma=pm.math.exp(pm_params[2]), observed=y_obs)\n",
    "    \n",
    "pm_model_and_grad = pm_model.fastfn([pm_model.logpt] + theano.grad(pm_model.logpt, pm_model.vars))\n",
    "\n",
    "def pm_logp_dlogp_func(x):\n",
    "    return pm_model_and_grad(pm_model.bijection.rmap(x))"
   ]
  },
  {
   "cell_type": "code",
   "execution_count": 8,
   "metadata": {},
   "outputs": [
    {
     "name": "stdout",
     "output_type": "stream",
     "text": [
      "46.3 µs ± 3.94 µs per loop (mean ± std. dev. of 7 runs, 10000 loops each)\n"
     ]
    }
   ],
   "source": [
    "%timeit pm_logp_dlogp_func(np.zeros(3))"
   ]
  },
  {
   "cell_type": "code",
   "execution_count": 10,
   "metadata": {},
   "outputs": [],
   "source": [
    "trace, stats = lmc.sample(\n",
    "    logp_dlogp_func=pm_logp_dlogp_func,\n",
    "    model_ndim=3,\n",
    "    tune=500,\n",
    "    draws=1000,\n",
    "    chains=4,\n",
    "    progressbar=False,  # Progress bars don't render well in reStructuredText docs...\n",
    ")"
   ]
  },
  {
   "cell_type": "markdown",
   "metadata": {},
   "source": [
    "## Visualize Traces with ArviZ\n",
    "\n",
    "Just to sanity check our results, let's visualize all the traces using ArviZ. At the time of writing there's no way to easily load the `np.ndarrays` arrays that `littlemcmc` returns into an `az.InferenceDataset`. Hopefully one day we'll have an `az.from_littlemcmc` method... but until then, please use this code snippet!"
   ]
  },
  {
   "cell_type": "code",
   "execution_count": 11,
   "metadata": {},
   "outputs": [],
   "source": [
    "def arviz_from_littlemcmc(trace, stats):\n",
    "    return az.InferenceData(\n",
    "        posterior=az.dict_to_dataset({\"x\": trace}),\n",
    "        sample_stats=az.dict_to_dataset({k: v.squeeze() for k, v in stats.items()})\n",
    "    )"
   ]
  },
  {
   "cell_type": "code",
   "execution_count": 12,
   "metadata": {},
   "outputs": [
    {
     "data": {
      "image/png": "[encoded data removed]",
      "text/plain": [
       "<Figure size 864x432 with 6 Axes>"
      ]
     },
     "metadata": {
      "needs_background": "light"
     },
     "output_type": "display_data"
    }
   ],
   "source": [
    "import arviz as az\n",
    "\n",
    "dataset = arviz_from_littlemcmc(trace, stats)\n",
    "\n",
    "az.plot_trace(dataset)\n",
    "plt.show()"
   ]
  },
  {
   "cell_type": "code",
   "execution_count": null,
   "metadata": {},
   "outputs": [],
   "source": []
  }
 ],
 "metadata": {
  "kernelspec": {
   "display_name": "Python 3",
   "language": "python",
   "name": "python3"
  },
  "language_info": {
   "codemirror_mode": {
    "name": "ipython",
    "version": 3
   },
   "file_extension": ".py",
   "mimetype": "text/x-python",
   "name": "python",
   "nbconvert_exporter": "python",
   "pygments_lexer": "ipython3",
   "version": "3.7.6"
  }
 },
 "nbformat": 4,
 "nbformat_minor": 4
}
